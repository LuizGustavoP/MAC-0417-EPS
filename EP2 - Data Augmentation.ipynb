{
 "cells": [
  {
   "cell_type": "code",
   "execution_count": 10,
   "id": "3fa42103-61b5-489a-80b4-7f29e19da835",
   "metadata": {},
   "outputs": [],
   "source": [
    "#@title\n",
    "### EP2 MAC0417/MAC5768\n",
    "##################################################################\n",
    "# AO PREENCHER ESSE CABEÇALHO COM O MEU NOME E O MEU NÚMEROUSP,  #\n",
    "# DECLARO QUE SOU O ÚNICO AUTORE RESPONSÁVEL PELA RESOLUÇÃO      #\n",
    "# DESTE EP.                                                      #\n",
    "# TODAS AS PARTES FORAM DESENVOLVIDAS E IMPLEMENTADAS POR MIM,   #\n",
    "# SEGUINDO AS INSTRUÇÕES E QUE PORTANTO, NÃO CONSTITUEM          #\n",
    "# DESONESTIDADE ACADÊMICA OU PLÁGIO.                             #\n",
    "#                                                                #\n",
    "# DECLARO TAMBÉM, QUE SOU RESPONSÁVEL POR TODAS AS CÓPIAS        #\n",
    "# DESSE PROGRAMA, E QUE EU NÃO DISTRIBUI OU FACILITEI A          #\n",
    "# SUA DISTRIBUIÇÃO. ESTOU CIENTE QUE OS CASOS DE PLÁGIO E        #\n",
    "# DESONESTIDADE ACADÊMICA SERÃO TRATADOS SEGUNDO OS CRITÉRIOS    #\n",
    "# DEFINIDOS NO CÓDIGO DE ÉTICA DA USP.                           #\n",
    "#                                                                # \n",
    "# ENTENDO QUE JUPYTER NOTEBOOKS SEM ASSINATURA NÃO SERÃO         #\n",
    "# CORRIGIDOS E, AINDA ASSIM, PODERÃO SER PUNIDOS POR             #\n",
    "# DESONESTIDADE ACADÊMICA.                                       #\n",
    "#                                                                #\n",
    "#                                                                #\n",
    "# Nome: Luiz Gustavo Pina de Sales                               #\n",
    "# NUSP: 10736991                                                 #\n",
    "# Turma: 2024145                                                 #\n",
    "# Prof.: Ronaldo Fumio Hashimoto                                 #\n",
    "#################################################################"
   ]
  },
  {
   "cell_type": "markdown",
   "id": "a36cda11-a8b1-4f9b-8612-f01f3f66e40a",
   "metadata": {},
   "source": [
    "## Import Libraries"
   ]
  },
  {
   "cell_type": "code",
   "execution_count": 19,
   "id": "a82f8b24-f8f8-4ccb-8b15-eb2c590dca9f",
   "metadata": {},
   "outputs": [
    {
     "name": "stdout",
     "output_type": "stream",
     "text": [
      "Collecting opencv-python\n",
      "  Downloading opencv_python-4.10.0.82-cp37-abi3-win_amd64.whl.metadata (20 kB)\n",
      "Requirement already satisfied: numpy>=1.21.2 in c:\\users\\gutop\\appdata\\local\\anaconda3\\lib\\site-packages (from opencv-python) (1.26.4)\n",
      "Downloading opencv_python-4.10.0.82-cp37-abi3-win_amd64.whl (38.8 MB)\n",
      "   ---------------------------------------- 0.0/38.8 MB ? eta -:--:--\n",
      "   ---------------------------------------- 0.0/38.8 MB ? eta -:--:--\n",
      "   ---------------------------------------- 0.1/38.8 MB 1.2 MB/s eta 0:00:34\n",
      "    --------------------------------------- 0.6/38.8 MB 4.8 MB/s eta 0:00:08\n",
      "   - -------------------------------------- 1.0/38.8 MB 6.5 MB/s eta 0:00:06\n",
      "   - -------------------------------------- 1.4/38.8 MB 6.5 MB/s eta 0:00:06\n",
      "   - -------------------------------------- 1.9/38.8 MB 7.0 MB/s eta 0:00:06\n",
      "   -- ------------------------------------- 2.3/38.8 MB 7.5 MB/s eta 0:00:05\n",
      "   -- ------------------------------------- 2.8/38.8 MB 7.9 MB/s eta 0:00:05\n",
      "   --- ------------------------------------ 3.3/38.8 MB 8.1 MB/s eta 0:00:05\n",
      "   --- ------------------------------------ 3.9/38.8 MB 8.5 MB/s eta 0:00:05\n",
      "   ---- ----------------------------------- 4.3/38.8 MB 8.7 MB/s eta 0:00:04\n",
      "   ---- ----------------------------------- 4.8/38.8 MB 8.7 MB/s eta 0:00:04\n",
      "   ----- ---------------------------------- 5.2/38.8 MB 8.7 MB/s eta 0:00:04\n",
      "   ----- ---------------------------------- 5.6/38.8 MB 8.8 MB/s eta 0:00:04\n",
      "   ------ --------------------------------- 6.1/38.8 MB 8.9 MB/s eta 0:00:04\n",
      "   ------ --------------------------------- 6.6/38.8 MB 8.9 MB/s eta 0:00:04\n",
      "   ------- -------------------------------- 7.1/38.8 MB 9.0 MB/s eta 0:00:04\n",
      "   ------- -------------------------------- 7.6/38.8 MB 9.1 MB/s eta 0:00:04\n",
      "   -------- ------------------------------- 8.1/38.8 MB 9.2 MB/s eta 0:00:04\n",
      "   -------- ------------------------------- 8.6/38.8 MB 9.3 MB/s eta 0:00:04\n",
      "   --------- ------------------------------ 9.1/38.8 MB 9.4 MB/s eta 0:00:04\n",
      "   --------- ------------------------------ 9.6/38.8 MB 9.5 MB/s eta 0:00:04\n",
      "   ---------- ----------------------------- 10.1/38.8 MB 9.5 MB/s eta 0:00:04\n",
      "   ---------- ----------------------------- 10.6/38.8 MB 10.2 MB/s eta 0:00:03\n",
      "   ----------- ---------------------------- 11.1/38.8 MB 10.1 MB/s eta 0:00:03\n",
      "   ----------- ---------------------------- 11.5/38.8 MB 10.2 MB/s eta 0:00:03\n",
      "   ------------ --------------------------- 12.0/38.8 MB 10.2 MB/s eta 0:00:03\n",
      "   ------------ --------------------------- 12.4/38.8 MB 10.2 MB/s eta 0:00:03\n",
      "   ------------- -------------------------- 13.0/38.8 MB 10.2 MB/s eta 0:00:03\n",
      "   ------------- -------------------------- 13.5/38.8 MB 10.2 MB/s eta 0:00:03\n",
      "   -------------- ------------------------- 14.0/38.8 MB 10.2 MB/s eta 0:00:03\n",
      "   -------------- ------------------------- 14.6/38.8 MB 10.4 MB/s eta 0:00:03\n",
      "   --------------- ------------------------ 15.1/38.8 MB 10.6 MB/s eta 0:00:03\n",
      "   ---------------- ----------------------- 15.5/38.8 MB 10.6 MB/s eta 0:00:03\n",
      "   ---------------- ----------------------- 16.0/38.8 MB 10.6 MB/s eta 0:00:03\n",
      "   ---------------- ----------------------- 16.5/38.8 MB 10.6 MB/s eta 0:00:03\n",
      "   ----------------- ---------------------- 17.0/38.8 MB 10.6 MB/s eta 0:00:03\n",
      "   ------------------ --------------------- 17.5/38.8 MB 10.6 MB/s eta 0:00:03\n",
      "   ------------------ --------------------- 18.0/38.8 MB 10.6 MB/s eta 0:00:02\n",
      "   ------------------- -------------------- 18.6/38.8 MB 10.6 MB/s eta 0:00:02\n",
      "   ------------------- -------------------- 19.1/38.8 MB 10.6 MB/s eta 0:00:02\n",
      "   -------------------- ------------------- 19.7/38.8 MB 10.7 MB/s eta 0:00:02\n",
      "   -------------------- ------------------- 20.2/38.8 MB 10.7 MB/s eta 0:00:02\n",
      "   --------------------- ------------------ 20.8/38.8 MB 10.7 MB/s eta 0:00:02\n",
      "   --------------------- ------------------ 21.2/38.8 MB 10.7 MB/s eta 0:00:02\n",
      "   ---------------------- ----------------- 21.7/38.8 MB 10.9 MB/s eta 0:00:02\n",
      "   ---------------------- ----------------- 22.1/38.8 MB 10.9 MB/s eta 0:00:02\n",
      "   ----------------------- ---------------- 22.5/38.8 MB 10.7 MB/s eta 0:00:02\n",
      "   ----------------------- ---------------- 23.0/38.8 MB 10.7 MB/s eta 0:00:02\n",
      "   ------------------------ --------------- 23.5/38.8 MB 10.7 MB/s eta 0:00:02\n",
      "   ------------------------ --------------- 24.1/38.8 MB 10.7 MB/s eta 0:00:02\n",
      "   ------------------------- -------------- 24.6/38.8 MB 10.7 MB/s eta 0:00:02\n",
      "   ------------------------- -------------- 25.1/38.8 MB 10.7 MB/s eta 0:00:02\n",
      "   -------------------------- ------------- 25.7/38.8 MB 10.7 MB/s eta 0:00:02\n",
      "   -------------------------- ------------- 26.2/38.8 MB 10.9 MB/s eta 0:00:02\n",
      "   --------------------------- ------------ 26.7/38.8 MB 10.7 MB/s eta 0:00:02\n",
      "   --------------------------- ------------ 27.2/38.8 MB 10.7 MB/s eta 0:00:02\n",
      "   ---------------------------- ----------- 27.6/38.8 MB 10.7 MB/s eta 0:00:02\n",
      "   ---------------------------- ----------- 28.1/38.8 MB 10.7 MB/s eta 0:00:01\n",
      "   ----------------------------- ---------- 28.6/38.8 MB 10.7 MB/s eta 0:00:01\n",
      "   ----------------------------- ---------- 29.1/38.8 MB 10.7 MB/s eta 0:00:01\n",
      "   ------------------------------ --------- 29.6/38.8 MB 10.6 MB/s eta 0:00:01\n",
      "   ------------------------------ --------- 30.0/38.8 MB 10.4 MB/s eta 0:00:01\n",
      "   ------------------------------- -------- 30.4/38.8 MB 10.4 MB/s eta 0:00:01\n",
      "   ------------------------------- -------- 30.9/38.8 MB 10.2 MB/s eta 0:00:01\n",
      "   -------------------------------- ------- 31.4/38.8 MB 10.4 MB/s eta 0:00:01\n",
      "   -------------------------------- ------- 31.8/38.8 MB 10.2 MB/s eta 0:00:01\n",
      "   --------------------------------- ------ 32.3/38.8 MB 10.4 MB/s eta 0:00:01\n",
      "   --------------------------------- ------ 32.7/38.8 MB 10.4 MB/s eta 0:00:01\n",
      "   ---------------------------------- ----- 33.2/38.8 MB 10.4 MB/s eta 0:00:01\n",
      "   ---------------------------------- ----- 33.8/38.8 MB 10.4 MB/s eta 0:00:01\n",
      "   ----------------------------------- ---- 34.3/38.8 MB 10.4 MB/s eta 0:00:01\n",
      "   ----------------------------------- ---- 34.8/38.8 MB 10.4 MB/s eta 0:00:01\n",
      "   ------------------------------------ --- 35.4/38.8 MB 10.4 MB/s eta 0:00:01\n",
      "   ------------------------------------ --- 35.9/38.8 MB 10.4 MB/s eta 0:00:01\n",
      "   ------------------------------------- -- 36.4/38.8 MB 10.2 MB/s eta 0:00:01\n",
      "   ------------------------------------- -- 36.8/38.8 MB 10.2 MB/s eta 0:00:01\n",
      "   -------------------------------------- - 37.3/38.8 MB 10.2 MB/s eta 0:00:01\n",
      "   -------------------------------------- - 37.8/38.8 MB 10.4 MB/s eta 0:00:01\n",
      "   ---------------------------------------  38.3/38.8 MB 10.4 MB/s eta 0:00:01\n",
      "   ---------------------------------------  38.8/38.8 MB 10.4 MB/s eta 0:00:01\n",
      "   ---------------------------------------  38.8/38.8 MB 10.4 MB/s eta 0:00:01\n",
      "   ---------------------------------------  38.8/38.8 MB 10.4 MB/s eta 0:00:01\n",
      "   ---------------------------------------  38.8/38.8 MB 10.4 MB/s eta 0:00:01\n",
      "   ---------------------------------------  38.8/38.8 MB 10.4 MB/s eta 0:00:01\n",
      "   ---------------------------------------- 38.8/38.8 MB 8.5 MB/s eta 0:00:00\n",
      "Installing collected packages: opencv-python\n",
      "Successfully installed opencv-python-4.10.0.82\n",
      "Note: you may need to restart the kernel to use updated packages.\n"
     ]
    }
   ],
   "source": [
    "pip install opencv-python"
   ]
  },
  {
   "cell_type": "code",
   "execution_count": 2,
   "id": "009e89af-994a-4870-ada0-ad47d21653ce",
   "metadata": {},
   "outputs": [],
   "source": [
    "import cv2\n",
    "from cv2 import resize, imwrite\n",
    "import matplotlib.pyplot as plt\n",
    "from matplotlib.pyplot import imread\n",
    "import numpy as np\n",
    "import pandas\n",
    "import os "
   ]
  },
  {
   "cell_type": "markdown",
   "id": "388a2018-3512-4e81-a592-55a64aef0da5",
   "metadata": {},
   "source": [
    "## Código principal para aquisição das imagens\n",
    "\n",
    "No código abaixo temos um banco de imagens que irá conter um dicionário com a seguinte hierarquia de chaves:\n",
    "\n",
    "    Classe -> Tempo -> Local -> Fundo -> Imagens\n",
    "\n",
    "Todas as outras funções irão acessar as imagens através deste dicionário."
   ]
  },
  {
   "cell_type": "code",
   "execution_count": 4,
   "id": "96ae1345-b01b-4b54-9f9e-306a78b0770f",
   "metadata": {},
   "outputs": [],
   "source": [
    "bancoImagens = {}\n",
    "quantidadeClasses = 0\n",
    "quantidadeImagens = 0\n",
    "resolucaoImagens = \"\"\n",
    "\n",
    "def loadImages(path, quantidadeClasses, quantidadeImagens, resolucaoImagens):\n",
    "    imagens = os.listdir(path)\n",
    "    \n",
    "    for imagem in imagens:\n",
    "        metadata = imagem.split(\",\")\n",
    "        if metadata[0] not in bancoImagens.keys():\n",
    "            bancoImagens[metadata[0]] = {}\n",
    "            \n",
    "        currentLevel = bancoImagens[metadata[0]]\n",
    "        for metadataIndex in range(1,len(metadata)-1):\n",
    "            if(metadata[metadataIndex] not in currentLevel): \n",
    "                currentLevel[metadata[metadataIndex]] = {}\n",
    "                currentLevel = currentLevel[metadata[metadataIndex]]\n",
    "            else: currentLevel = currentLevel[metadata[metadataIndex]] \n",
    "\n",
    "        local = metadata[-1].strip().replace(\".jpg\", \"\")\n",
    "        currentLevel[local] = imread(path+imagem)\n",
    "        quantidadeImagens += 1\n",
    "        resolucaoImagens = f\"{len(currentLevel[local])}x{len(currentLevel[local][0])}\"\n",
    "    return quantidadeClasses, quantidadeImagens, resolucaoImagens      \n",
    "quantidadeClasses, quantidadeImagens, resolucaoImagens = loadImages(\"./Banco de Imagens/\", quantidadeClasses, quantidadeImagens, resolucaoImagens)"
   ]
  },
  {
   "cell_type": "markdown",
   "id": "e35c9a66-acc8-49a4-81d3-bd3b4e8c2c55",
   "metadata": {},
   "source": [
    "## Tabela de Dados"
   ]
  },
  {
   "cell_type": "code",
   "execution_count": 35,
   "id": "49b1bebc-6fb7-43eb-a77a-ea56cf70d0b3",
   "metadata": {},
   "outputs": [
    {
     "name": "stdout",
     "output_type": "stream",
     "text": [
      "\n",
      "=============================================================================\n",
      "\n",
      "Tabela Detalhada de Dados:\n",
      "\n",
      "     Classe  N°Objetos  N°Fundos  N°Iluminações  Total\n",
      "0   Alicate        1.0       6.0            4.0   24.0\n",
      "1    Caneta        1.0       6.0            4.0   24.0\n",
      "2    Colher        1.0       6.0            4.0   24.0\n",
      "3  Controle        1.0       6.0            4.0   24.0\n",
      "4   Esmalte        1.0       6.0            4.0   24.0\n",
      "5      Faca        1.0       6.0            4.0   24.0\n",
      "6     Garfo        1.0       6.0            4.0   24.0\n",
      "7      Lixa        1.0       6.0            4.0   24.0\n",
      "8     Moeda        1.0       6.0            4.0   24.0\n",
      "9     Prato        1.0       6.0            4.0   24.0\n",
      "\n",
      "===========================================================================\n",
      "\n"
     ]
    }
   ],
   "source": [
    "def imprimeTabelaDetalhadaDeDados():\n",
    "    print(\"\\n=============================================================================\\n\")\n",
    "    print(\"Tabela Detalhada de Dados:\\n\")\n",
    "    dados = pandas.DataFrame({\"Classe\": [],\n",
    "                         \"N°Objetos\": [], \"N°Fundos\": [],\n",
    "                         \"N°Iluminações\": [], \"Total\": []})\n",
    "    classes = bancoImagens.keys()\n",
    "    for classe in classes:\n",
    "        totalAmostras = 0\n",
    "        totalFundos = []\n",
    "        totalTempos = []\n",
    "        totalLocais = []\n",
    "        tempos = bancoImagens[classe].keys()\n",
    "        for tempo in tempos:\n",
    "            if tempo not in totalTempos: totalTempos.append(tempo)\n",
    "            for local in bancoImagens[classe][tempo].keys():\n",
    "                if local not in totalLocais: totalLocais.append(local)\n",
    "                for fundo in bancoImagens[classe][tempo][local].keys():\n",
    "                    if fundo not in totalFundos: totalFundos.append(fundo)\n",
    "                    \n",
    "        contadorFundos = len(totalFundos)\n",
    "        contadorIluminacoes = len(totalTempos)*len(totalLocais)\n",
    "        totalAmostras += contadorIluminacoes*contadorFundos\n",
    "                    \n",
    "        dados = pandas.concat([dados, pandas.DataFrame({\"Classe\": classe, \"N°Objetos\": 1, \"N°Fundos\": contadorFundos,\n",
    "        \"N°Iluminações\": contadorIluminacoes, \"Total\": totalAmostras}, index=[0])], ignore_index = True)\n",
    "    print(dados)\n",
    "    print(\"\\n===========================================================================\\n\")\n",
    "imprimeTabelaDetalhadaDeDados()"
   ]
  },
  {
   "cell_type": "markdown",
   "id": "b1825bd8-f0fd-4704-85f5-e41b9baac584",
   "metadata": {},
   "source": [
    "## Save Image"
   ]
  },
  {
   "cell_type": "code",
   "execution_count": 37,
   "id": "b61f9170-2dbc-49f7-8b8f-4c710c206eb1",
   "metadata": {},
   "outputs": [],
   "source": [
    "def saveImage(filename, image):\n",
    "    if not imwrite(filename, image):\n",
    "        print(\"Não salvou imagem!\")"
   ]
  },
  {
   "cell_type": "markdown",
   "id": "2c8d3b81-a714-46a4-aa6d-cc022793c36a",
   "metadata": {},
   "source": [
    "## Conversão para níveis de cinza\n",
    "\n",
    "Código baseado na sugestão do enunciado\n"
   ]
  },
  {
   "cell_type": "code",
   "execution_count": 40,
   "id": "2dd4a4d1-1391-4855-bb90-910265194b73",
   "metadata": {},
   "outputs": [],
   "source": [
    "def RGB2Gray():\n",
    "    if not os.path.exists(\"./originalGrayDataset/\"):\n",
    "        os.makedirs(\"./originalGrayDataset/\")\n",
    "    for classe in bancoImagens.keys():\n",
    "        if not os.path.exists(f\"./originalGrayDataset/{classe}\"):\n",
    "            os.makedirs(f\"./originalGrayDataset/{classe}\")\n",
    "        for tempo in bancoImagens[classe].keys():\n",
    "            for iluminacao in bancoImagens[classe][tempo].keys():\n",
    "                for fundo in bancoImagens[classe][tempo][iluminacao].keys():\n",
    "                        imagemConvertida = cv2.cvtColor(bancoImagens[classe][tempo][iluminacao][fundo], cv2.COLOR_BGR2GRAY)\n",
    "                        saveImage(f\"./originalGrayDataset/{classe},{tempo},{iluminacao},{fundo}.jpg\", imagemConvertida)\n",
    "RGB2Gray()"
   ]
  },
  {
   "cell_type": "markdown",
   "id": "46063bcd-2426-4efc-9281-7ddea806aa4c",
   "metadata": {},
   "source": [
    "# Data Augmentation\n",
    "\n",
    "As funções abaixo foram baseadas nas criadas para execução das transformações da Lista 1"
   ]
  },
  {
   "cell_type": "markdown",
   "id": "1c7e0a13-72b8-4cd4-aee1-9ec42dc9393a",
   "metadata": {},
   "source": [
    "## Constrast Strecthing"
   ]
  },
  {
   "cell_type": "code",
   "execution_count": 81,
   "id": "11f5572e-1010-4b04-a99b-e8f23549df46",
   "metadata": {},
   "outputs": [],
   "source": [
    "def contrast_stretching(originalImage):\n",
    "    image = originalImage.copy()\n",
    "    image = 255 * (image - image.min()) / (image.max() - image.min())\n",
    "    return image"
   ]
  },
  {
   "cell_type": "markdown",
   "id": "76901cef-0ea1-4cb1-b250-739f9d8073e7",
   "metadata": {},
   "source": [
    "## Log Transform"
   ]
  },
  {
   "cell_type": "code",
   "execution_count": 143,
   "id": "da59ed9c-8f74-413c-8f88-51d05ae3ebb8",
   "metadata": {},
   "outputs": [],
   "source": [
    "def log_transform(originalImage):\n",
    "    image = originalImage.copy()\n",
    "    c = 255/np.log(np.max(np.array(image)))\n",
    "    for lineIndex in range(len(image)):\n",
    "        for columnIndex in range(len(image[lineIndex])):\n",
    "            image[lineIndex][columnIndex] = c*(np.log(image[lineIndex][columnIndex]+1))\n",
    "    return image"
   ]
  },
  {
   "cell_type": "markdown",
   "id": "7f78984b-1d3a-44b6-9132-32ae00734997",
   "metadata": {},
   "source": [
    "## Power Law Transform"
   ]
  },
  {
   "cell_type": "code",
   "execution_count": 146,
   "id": "89f706a2-6b04-4a49-b5be-62dbfc6ff773",
   "metadata": {},
   "outputs": [],
   "source": [
    "def power_law_transform(originalImage, y, c):\n",
    "    image = originalImage.copy()\n",
    "    for lineIndex in range(len(image)):\n",
    "        for columnIndex in range(len(image[lineIndex])):\n",
    "            image[lineIndex][columnIndex] = c*(np.power(image[lineIndex][columnIndex],y))\n",
    "    image = 255 * (image - image.min()) / (image.max() - image.min())\n",
    "    return image"
   ]
  },
  {
   "cell_type": "markdown",
   "id": "0b3c03d1-2e82-48ae-b317-c173dfe5cf0e",
   "metadata": {},
   "source": [
    "## Laplace Transform"
   ]
  },
  {
   "cell_type": "code",
   "execution_count": 149,
   "id": "32e894ee-4dc1-4412-94fd-256d1719f714",
   "metadata": {},
   "outputs": [],
   "source": [
    "def laplace_transform(originalImage):\n",
    "    image = originalImage.copy()\n",
    "    laplaceKernel= [\n",
    "        [ 0,  1,  0],\n",
    "        [ 1, -4,  1],\n",
    "        [ 0,  1,  0],\n",
    "    ]\n",
    "\n",
    "    image = np.convolve(originalImage, laplaceKernel)\n",
    "        \n",
    "    return image"
   ]
  },
  {
   "cell_type": "markdown",
   "id": "9404dd05-79d2-4c08-93b9-da4fe85e208f",
   "metadata": {},
   "source": [
    "## Mean Filter With Convolution"
   ]
  },
  {
   "cell_type": "code",
   "execution_count": 152,
   "id": "fb50caa8-f9b0-4d8e-b87f-10d5f9297dd5",
   "metadata": {},
   "outputs": [],
   "source": [
    "def mean_filter_convolution(originalImage):\n",
    "    image = originalImage.copy()\n",
    "    meanKernel = [\n",
    "        [ 1/9, 1/9, 1/9],\n",
    "        [ 1/9, 1/9, 1/9],\n",
    "        [ 1/9, 1/9, 1/9],\n",
    "    ]\n",
    "    image = np.convolve(originalImage, meanKernel)\n",
    "    return image"
   ]
  },
  {
   "cell_type": "markdown",
   "id": "e2c4bfb1-0a57-4a2f-b60e-3a1e68de3e4c",
   "metadata": {},
   "source": [
    "## Aplicação"
   ]
  },
  {
   "cell_type": "code",
   "execution_count": 157,
   "id": "39238fb9-6e1f-4ac5-97e6-6eaa00ee5234",
   "metadata": {},
   "outputs": [
    {
     "ename": "KeyboardInterrupt",
     "evalue": "",
     "output_type": "error",
     "traceback": [
      "\u001b[1;31m---------------------------------------------------------------------------\u001b[0m",
      "\u001b[1;31mKeyboardInterrupt\u001b[0m                         Traceback (most recent call last)",
      "Cell \u001b[1;32mIn[157], line 19\u001b[0m\n\u001b[0;32m     17\u001b[0m                     saveImage(\u001b[38;5;124mf\u001b[39m\u001b[38;5;124m\"\u001b[39m\u001b[38;5;124m./augmentedDataset/\u001b[39m\u001b[38;5;132;01m{\u001b[39;00mclasse\u001b[38;5;132;01m}\u001b[39;00m\u001b[38;5;124m,\u001b[39m\u001b[38;5;132;01m{\u001b[39;00mtempo\u001b[38;5;132;01m}\u001b[39;00m\u001b[38;5;124m,\u001b[39m\u001b[38;5;132;01m{\u001b[39;00miluminacao\u001b[38;5;132;01m}\u001b[39;00m\u001b[38;5;124m,\u001b[39m\u001b[38;5;132;01m{\u001b[39;00mfundo\u001b[38;5;132;01m}\u001b[39;00m\u001b[38;5;124m,Laplace.jpg\u001b[39m\u001b[38;5;124m\"\u001b[39m, imagemLaplaceTransformed)\n\u001b[0;32m     18\u001b[0m                     saveImage(\u001b[38;5;124mf\u001b[39m\u001b[38;5;124m\"\u001b[39m\u001b[38;5;124m./augmentedDataset/\u001b[39m\u001b[38;5;132;01m{\u001b[39;00mclasse\u001b[38;5;132;01m}\u001b[39;00m\u001b[38;5;124m,\u001b[39m\u001b[38;5;132;01m{\u001b[39;00mtempo\u001b[38;5;132;01m}\u001b[39;00m\u001b[38;5;124m,\u001b[39m\u001b[38;5;132;01m{\u001b[39;00miluminacao\u001b[38;5;132;01m}\u001b[39;00m\u001b[38;5;124m,\u001b[39m\u001b[38;5;132;01m{\u001b[39;00mfundo\u001b[38;5;132;01m}\u001b[39;00m\u001b[38;5;124m,MeanFilterConvolution.jpg\u001b[39m\u001b[38;5;124m\"\u001b[39m, imagemMeanFilterConvolution)\n\u001b[1;32m---> 19\u001b[0m data_augmentation()\n",
      "Cell \u001b[1;32mIn[157], line 9\u001b[0m, in \u001b[0;36mdata_augmentation\u001b[1;34m()\u001b[0m\n\u001b[0;32m      7\u001b[0m \u001b[38;5;28;01mfor\u001b[39;00m fundo \u001b[38;5;129;01min\u001b[39;00m bancoImagens[classe][tempo][iluminacao]\u001b[38;5;241m.\u001b[39mkeys():\n\u001b[0;32m      8\u001b[0m     imagemConstrastStretching \u001b[38;5;241m=\u001b[39m contrast_stretching(bancoImagens[classe][tempo][iluminacao][fundo])\n\u001b[1;32m----> 9\u001b[0m     imagemLog \u001b[38;5;241m=\u001b[39m log_transform(bancoImagens[classe][tempo][iluminacao][fundo])\n\u001b[0;32m     10\u001b[0m     imagemPowerLaw \u001b[38;5;241m=\u001b[39m power_law_transform(bancoImagens[classe][tempo][iluminacao][fundo], \u001b[38;5;241m0\u001b[39m, \u001b[38;5;241m0\u001b[39m)\n\u001b[0;32m     11\u001b[0m     imagemLaplaceTransformed \u001b[38;5;241m=\u001b[39m laplace_transform(bancoImagens[classe][tempo][iluminacao][fundo])\n",
      "Cell \u001b[1;32mIn[143], line 6\u001b[0m, in \u001b[0;36mlog_transform\u001b[1;34m(originalImage)\u001b[0m\n\u001b[0;32m      4\u001b[0m \u001b[38;5;28;01mfor\u001b[39;00m lineIndex \u001b[38;5;129;01min\u001b[39;00m \u001b[38;5;28mrange\u001b[39m(\u001b[38;5;28mlen\u001b[39m(image)):\n\u001b[0;32m      5\u001b[0m     \u001b[38;5;28;01mfor\u001b[39;00m columnIndex \u001b[38;5;129;01min\u001b[39;00m \u001b[38;5;28mrange\u001b[39m(\u001b[38;5;28mlen\u001b[39m(image[lineIndex])):\n\u001b[1;32m----> 6\u001b[0m         image[lineIndex][columnIndex] \u001b[38;5;241m=\u001b[39m c\u001b[38;5;241m*\u001b[39m(np\u001b[38;5;241m.\u001b[39mlog(image[lineIndex][columnIndex]\u001b[38;5;241m+\u001b[39m\u001b[38;5;241m1\u001b[39m))\n\u001b[0;32m      7\u001b[0m \u001b[38;5;28;01mreturn\u001b[39;00m image\n",
      "\u001b[1;31mKeyboardInterrupt\u001b[0m: "
     ]
    }
   ],
   "source": [
    "def data_augmentation():\n",
    "    if not os.path.exists(\"./augmentedDataset/\"):\n",
    "        os.makedirs(\"./augmentedDataset/\")\n",
    "    for classe in bancoImagens.keys():\n",
    "        for tempo in bancoImagens[classe].keys():\n",
    "            for iluminacao in bancoImagens[classe][tempo].keys():\n",
    "                for fundo in bancoImagens[classe][tempo][iluminacao].keys():\n",
    "                    imagemConstrastStretching = contrast_stretching(bancoImagens[classe][tempo][iluminacao][fundo])\n",
    "                    imagemLog = log_transform(bancoImagens[classe][tempo][iluminacao][fundo])\n",
    "                    imagemPowerLaw = power_law_transform(bancoImagens[classe][tempo][iluminacao][fundo], 0, 0)\n",
    "                    imagemLaplaceTransformed = laplace_transform(bancoImagens[classe][tempo][iluminacao][fundo])\n",
    "                    imagemMeanFilterConvolution = mean_filter_convolution(bancoImagens[classe][tempo][iluminacao][fundo])\n",
    "                        \n",
    "                    saveImage(f\"./augmentedDataset/{classe},{tempo},{iluminacao},{fundo},ContrastStrechted.jpg\", imagemConstrastStretching)\n",
    "                    saveImage(f\"./augmentedDataset/{classe},{tempo},{iluminacao},{fundo},Log.jpg\", imagemLog)\n",
    "                    saveImage(f\"./augmentedDataset/{classe},{tempo},{iluminacao},{fundo},PowerLaw.jpg\", imagemPowerLaw)\n",
    "                    saveImage(f\"./augmentedDataset/{classe},{tempo},{iluminacao},{fundo},Laplace.jpg\", imagemLaplaceTransformed)\n",
    "                    saveImage(f\"./augmentedDataset/{classe},{tempo},{iluminacao},{fundo},MeanFilterConvolution.jpg\", imagemMeanFilterConvolution)\n",
    "data_augmentation()"
   ]
  },
  {
   "cell_type": "code",
   "execution_count": null,
   "id": "b037d0f3-1af1-416e-a198-971c31b24b6a",
   "metadata": {},
   "outputs": [],
   "source": []
  }
 ],
 "metadata": {
  "kernelspec": {
   "display_name": "Python 3 (ipykernel)",
   "language": "python",
   "name": "python3"
  },
  "language_info": {
   "codemirror_mode": {
    "name": "ipython",
    "version": 3
   },
   "file_extension": ".py",
   "mimetype": "text/x-python",
   "name": "python",
   "nbconvert_exporter": "python",
   "pygments_lexer": "ipython3",
   "version": "3.11.7"
  }
 },
 "nbformat": 4,
 "nbformat_minor": 5
}
