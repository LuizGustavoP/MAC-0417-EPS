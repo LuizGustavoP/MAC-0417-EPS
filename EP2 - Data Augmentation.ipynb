{
 "cells": [
  {
   "cell_type": "code",
   "execution_count": 1,
   "id": "3fa42103-61b5-489a-80b4-7f29e19da835",
   "metadata": {},
   "outputs": [],
   "source": [
    "#@title\n",
    "### EP2 MAC0417/MAC5768\n",
    "##################################################################\n",
    "# AO PREENCHER ESSE CABEÇALHO COM O MEU NOME E O MEU NÚMEROUSP,  #\n",
    "# DECLARO QUE SOU O ÚNICO AUTORE RESPONSÁVEL PELA RESOLUÇÃO      #\n",
    "# DESTE EP.                                                      #\n",
    "# TODAS AS PARTES FORAM DESENVOLVIDAS E IMPLEMENTADAS POR MIM,   #\n",
    "# SEGUINDO AS INSTRUÇÕES E QUE PORTANTO, NÃO CONSTITUEM          #\n",
    "# DESONESTIDADE ACADÊMICA OU PLÁGIO.                             #\n",
    "#                                                                #\n",
    "# DECLARO TAMBÉM, QUE SOU RESPONSÁVEL POR TODAS AS CÓPIAS        #\n",
    "# DESSE PROGRAMA, E QUE EU NÃO DISTRIBUI OU FACILITEI A          #\n",
    "# SUA DISTRIBUIÇÃO. ESTOU CIENTE QUE OS CASOS DE PLÁGIO E        #\n",
    "# DESONESTIDADE ACADÊMICA SERÃO TRATADOS SEGUNDO OS CRITÉRIOS    #\n",
    "# DEFINIDOS NO CÓDIGO DE ÉTICA DA USP.                           #\n",
    "#                                                                # \n",
    "# ENTENDO QUE JUPYTER NOTEBOOKS SEM ASSINATURA NÃO SERÃO         #\n",
    "# CORRIGIDOS E, AINDA ASSIM, PODERÃO SER PUNIDOS POR             #\n",
    "# DESONESTIDADE ACADÊMICA.                                       #\n",
    "#                                                                #\n",
    "#                                                                #\n",
    "# Nome: Luiz Gustavo Pina de Sales                               #\n",
    "# NUSP: 10736991                                                 #\n",
    "# Turma: 2024145                                                 #\n",
    "# Prof.: Ronaldo Fumio Hashimoto                                 #\n",
    "#################################################################"
   ]
  },
  {
   "cell_type": "markdown",
   "id": "ac094440-c163-4a16-b1ec-858262e8673a",
   "metadata": {},
   "source": [
    "# EP2 - Data Augmentation\n",
    "Neste notebook temos as aplicações de funções de data augmentation sobre as imagens coletadas para análise no EP1.\n",
    "\n",
    "Com base no feedback do EP1, foram corrigidos os seguintes pontos:\n",
    " - A estrutura de pastas para cada classe foi removida e agora todas as imagens compartilham o mesmo diretório respectivo de seu grupo (original, originalGrayDataset e augmentedDataset)\n",
    " - As duplicações das imagens também foi removida, agora temos as imagens únicas de acordo com suas características.   "
   ]
  },
  {
   "cell_type": "markdown",
   "id": "a36cda11-a8b1-4f9b-8612-f01f3f66e40a",
   "metadata": {},
   "source": [
    "## Importações\n",
    "Realiza as importações das bibliotecas necessárias para execução do notebook, de acordo com as permitidas para uso pelo enunciado."
   ]
  },
  {
   "cell_type": "code",
   "execution_count": 4,
   "id": "a82f8b24-f8f8-4ccb-8b15-eb2c590dca9f",
   "metadata": {},
   "outputs": [
    {
     "name": "stdout",
     "output_type": "stream",
     "text": [
      "Requirement already satisfied: opencv-python in c:\\users\\gutop\\appdata\\local\\anaconda3\\lib\\site-packages (4.10.0.82)\n",
      "Requirement already satisfied: numpy>=1.21.2 in c:\\users\\gutop\\appdata\\local\\anaconda3\\lib\\site-packages (from opencv-python) (1.26.4)\n",
      "Note: you may need to restart the kernel to use updated packages.\n"
     ]
    },
    {
     "name": "stderr",
     "output_type": "stream",
     "text": [
      "\n",
      "[notice] A new release of pip is available: 24.0 -> 24.1.1\n",
      "[notice] To update, run: python.exe -m pip install --upgrade pip\n"
     ]
    }
   ],
   "source": [
    "pip install opencv-python"
   ]
  },
  {
   "cell_type": "code",
   "execution_count": 5,
   "id": "009e89af-994a-4870-ada0-ad47d21653ce",
   "metadata": {},
   "outputs": [],
   "source": [
    "import cv2\n",
    "from cv2 import resize, imwrite\n",
    "import matplotlib.pyplot as plt\n",
    "from matplotlib.pyplot import imread\n",
    "import numpy as np\n",
    "import pandas\n",
    "import os "
   ]
  },
  {
   "cell_type": "markdown",
   "id": "388a2018-3512-4e81-a592-55a64aef0da5",
   "metadata": {},
   "source": [
    "## Código principal para aquisição das imagens\n",
    "\n",
    "No código abaixo temos um banco de imagens que irá conter um dicionário com a seguinte hierarquia de chaves:\n",
    "\n",
    "    Classe -> Tempo -> Local -> Fundo -> Imagens\n",
    "\n",
    "Todas as outras funções irão acessar as imagens através deste dicionário.\n",
    "Este código foi adaptado do EP1 para permitir o uso com a nova estrutura do banco de imagens."
   ]
  },
  {
   "cell_type": "code",
   "execution_count": 7,
   "id": "96ae1345-b01b-4b54-9f9e-306a78b0770f",
   "metadata": {},
   "outputs": [],
   "source": [
    "bancoImagens = {}\n",
    "quantidadeClasses = 0\n",
    "quantidadeImagens = 0\n",
    "resolucaoImagens = \"\"\n",
    "\n",
    "def loadImages(path, quantidadeClasses, quantidadeImagens, resolucaoImagens, bancoImagens):\n",
    "    imagens = os.listdir(path)\n",
    "    \n",
    "    for imagem in imagens:\n",
    "        metadata = imagem.split(\",\")\n",
    "        if metadata[0] not in bancoImagens.keys():\n",
    "            bancoImagens[metadata[0]] = {}\n",
    "            \n",
    "        currentLevel = bancoImagens[metadata[0]]\n",
    "        for metadataIndex in range(1,len(metadata)-1):\n",
    "            if(metadata[metadataIndex] not in currentLevel): \n",
    "                currentLevel[metadata[metadataIndex]] = {}\n",
    "                currentLevel = currentLevel[metadata[metadataIndex]]\n",
    "            else: currentLevel = currentLevel[metadata[metadataIndex]] \n",
    "\n",
    "        local = metadata[-1].strip().replace(\".jpg\", \"\")\n",
    "        currentLevel[local] = imread(path+imagem)\n",
    "        quantidadeImagens += 1\n",
    "        resolucaoImagens = f\"{len(currentLevel[local])}x{len(currentLevel[local][0])}\"\n",
    "    return quantidadeClasses, quantidadeImagens, resolucaoImagens      \n",
    "quantidadeClasses, quantidadeImagens, resolucaoImagens = loadImages(\"./Banco de Imagens/\", quantidadeClasses, quantidadeImagens, resolucaoImagens, bancoImagens)"
   ]
  },
  {
   "cell_type": "markdown",
   "id": "e35c9a66-acc8-49a4-81d3-bd3b4e8c2c55",
   "metadata": {},
   "source": [
    "## Tabela de Dados\n",
    "\n",
    "Código adaptado do EP1."
   ]
  },
  {
   "cell_type": "code",
   "execution_count": 9,
   "id": "49b1bebc-6fb7-43eb-a77a-ea56cf70d0b3",
   "metadata": {},
   "outputs": [
    {
     "name": "stdout",
     "output_type": "stream",
     "text": [
      "\n",
      "=============================================================================\n",
      "\n",
      "Tabela Detalhada de Dados:\n",
      "\n",
      "     Classe  N°Objetos  N°Fundos  N°Iluminações  Total\n",
      "0   Alicate        1.0       6.0            4.0   24.0\n",
      "1    Caneta        1.0       6.0            4.0   24.0\n",
      "2    Colher        1.0       6.0            4.0   24.0\n",
      "3  Controle        1.0       6.0            4.0   24.0\n",
      "4   Esmalte        1.0       6.0            4.0   24.0\n",
      "5      Faca        1.0       6.0            4.0   24.0\n",
      "6     Garfo        1.0       6.0            4.0   24.0\n",
      "7      Lixa        1.0       6.0            4.0   24.0\n",
      "8     Moeda        1.0       6.0            4.0   24.0\n",
      "9     Prato        1.0       6.0            4.0   24.0\n",
      "\n",
      "===========================================================================\n",
      "\n"
     ]
    }
   ],
   "source": [
    "def imprimeTabelaDetalhadaDeDados():\n",
    "    print(\"\\n=============================================================================\\n\")\n",
    "    print(\"Tabela Detalhada de Dados:\\n\")\n",
    "    dados = pandas.DataFrame({\"Classe\": [],\n",
    "                         \"N°Objetos\": [], \"N°Fundos\": [],\n",
    "                         \"N°Iluminações\": [], \"Total\": []})\n",
    "    classes = bancoImagens.keys()\n",
    "    for classe in classes:\n",
    "        totalAmostras = 0\n",
    "        totalFundos = []\n",
    "        totalTempos = []\n",
    "        totalLocais = []\n",
    "        tempos = bancoImagens[classe].keys()\n",
    "        for tempo in tempos:\n",
    "            if tempo not in totalTempos: totalTempos.append(tempo)\n",
    "            for local in bancoImagens[classe][tempo].keys():\n",
    "                if local not in totalLocais: totalLocais.append(local)\n",
    "                for fundo in bancoImagens[classe][tempo][local].keys():\n",
    "                    if fundo not in totalFundos: totalFundos.append(fundo)\n",
    "                    \n",
    "        contadorFundos = len(totalFundos)\n",
    "        contadorIluminacoes = len(totalTempos)*len(totalLocais)\n",
    "        totalAmostras += contadorIluminacoes*contadorFundos\n",
    "                    \n",
    "        dados = pandas.concat([dados, pandas.DataFrame({\"Classe\": classe, \"N°Objetos\": 1, \"N°Fundos\": contadorFundos,\n",
    "        \"N°Iluminações\": contadorIluminacoes, \"Total\": totalAmostras}, index=[0])], ignore_index = True)\n",
    "    print(dados)\n",
    "    print(\"\\n===========================================================================\\n\")\n",
    "imprimeTabelaDetalhadaDeDados()"
   ]
  },
  {
   "cell_type": "markdown",
   "id": "b1825bd8-f0fd-4704-85f5-e41b9baac584",
   "metadata": {},
   "source": [
    "## Save Image\n",
    "\n",
    "Código com base na sugestão do enunciado."
   ]
  },
  {
   "cell_type": "code",
   "execution_count": 11,
   "id": "b61f9170-2dbc-49f7-8b8f-4c710c206eb1",
   "metadata": {},
   "outputs": [],
   "source": [
    "def saveImage(filename, image):\n",
    "    if not imwrite(filename, image):\n",
    "        print(\"Não salvou imagem!\")"
   ]
  },
  {
   "cell_type": "markdown",
   "id": "2c8d3b81-a714-46a4-aa6d-cc022793c36a",
   "metadata": {},
   "source": [
    "## Conversão para níveis de cinza\n",
    "\n",
    "Código baseado na sugestão do enunciado, irá converter imagens com 3 canais de cores para imagens em níveis de intensidade de cinza.\n",
    "Também será armazenado em um dicionário o novo dataset com as imagens em níveis de cinza."
   ]
  },
  {
   "cell_type": "code",
   "execution_count": 13,
   "id": "2dd4a4d1-1391-4855-bb90-910265194b73",
   "metadata": {},
   "outputs": [],
   "source": [
    "def RGB2Gray():\n",
    "    if not os.path.exists(\"./originalGrayDataset/\"):\n",
    "        os.makedirs(\"./originalGrayDataset/\")\n",
    "    for classe in bancoImagens.keys():\n",
    "        for tempo in bancoImagens[classe].keys():\n",
    "            for iluminacao in bancoImagens[classe][tempo].keys():\n",
    "                for fundo in bancoImagens[classe][tempo][iluminacao].keys():\n",
    "                        imagemConvertida = cv2.cvtColor(bancoImagens[classe][tempo][iluminacao][fundo], cv2.COLOR_BGR2GRAY)\n",
    "                        saveImage(f\"./originalGrayDataset/{classe},{tempo},{iluminacao},{fundo}.jpg\", imagemConvertida)\n",
    "RGB2Gray()"
   ]
  },
  {
   "cell_type": "code",
   "execution_count": 14,
   "id": "8c0cc4ad-1688-4124-872e-db01ef60d10e",
   "metadata": {},
   "outputs": [],
   "source": [
    "bancoImagensCinza = {}\n",
    "quantidadeClassesCinzas, quantidadeImagensCinzas, resolucaoImagensCinzas = loadImages(\"./originalGrayDataset/\", quantidadeClasses, quantidadeImagens, resolucaoImagens, bancoImagensCinza)"
   ]
  },
  {
   "cell_type": "markdown",
   "id": "46063bcd-2426-4efc-9281-7ddea806aa4c",
   "metadata": {},
   "source": [
    "# Data Augmentation\n",
    "\n",
    "As funções abaixo foram baseadas nas criadas para execução das transformações da Lista 1"
   ]
  },
  {
   "cell_type": "markdown",
   "id": "1c7e0a13-72b8-4cd4-aee1-9ec42dc9393a",
   "metadata": {},
   "source": [
    "## Constrast Strecthing"
   ]
  },
  {
   "cell_type": "code",
   "execution_count": 18,
   "id": "11f5572e-1010-4b04-a99b-e8f23549df46",
   "metadata": {},
   "outputs": [],
   "source": [
    "def contrast_stretching(originalImage):\n",
    "    image = originalImage.copy()\n",
    "    image = 255 * (image - image.min()) / (image.max() - image.min())\n",
    "    return image"
   ]
  },
  {
   "cell_type": "markdown",
   "id": "76901cef-0ea1-4cb1-b250-739f9d8073e7",
   "metadata": {},
   "source": [
    "## Log Transform\n",
    "O parâmetro c desta função é adquirido com base no maior nível de intensidade presente na imagem, portanto a função atua de maneira dinâmica para as diferentes iluminações e condições do dataset."
   ]
  },
  {
   "cell_type": "code",
   "execution_count": 20,
   "id": "da59ed9c-8f74-413c-8f88-51d05ae3ebb8",
   "metadata": {},
   "outputs": [],
   "source": [
    "def log_transform(originalImage):\n",
    "    image = originalImage.copy()\n",
    "    c = 255/np.log(np.max(np.array(image)))\n",
    "    for lineIndex in range(len(image)):\n",
    "        for columnIndex in range(len(image[lineIndex])):\n",
    "            image[lineIndex][columnIndex] = c*(np.log(image[lineIndex][columnIndex]+1))\n",
    "    return image"
   ]
  },
  {
   "cell_type": "markdown",
   "id": "7f78984b-1d3a-44b6-9132-32ae00734997",
   "metadata": {},
   "source": [
    "## Power Law Transform"
   ]
  },
  {
   "cell_type": "code",
   "execution_count": 22,
   "id": "89f706a2-6b04-4a49-b5be-62dbfc6ff773",
   "metadata": {},
   "outputs": [],
   "source": [
    "def power_law_transform(originalImage, y, c):\n",
    "    image = originalImage.copy()\n",
    "    for lineIndex in range(len(image)):\n",
    "        for columnIndex in range(len(image[lineIndex])):\n",
    "            image[lineIndex][columnIndex] = c*(np.power(image[lineIndex][columnIndex],y))\n",
    "    image = 255 * (image - image.min()) / (image.max() - image.min())\n",
    "    return image"
   ]
  },
  {
   "cell_type": "markdown",
   "id": "e5af6a7f-b801-47c8-9d4f-39c2cf3d04c4",
   "metadata": {},
   "source": [
    "## Convolução 2D com Kernel para imagens em níveis de cinza\n",
    "\n",
    "Função que realiza o processo de convolução entre um kernel de determinado filtro e uma imagem em níveis de cinza.\n",
    "Primeiro criamos uma imagem com o tamanho da original com todos os valores zerados, e em seguida realizamos a convolução nas colunas, e depois, pegamos a imagem resultante e aplicamos a convolução nas linhas, obtendo assim a convolução de uma imagem em níveis de cinza com um kernel."
   ]
  },
  {
   "cell_type": "code",
   "execution_count": 24,
   "id": "86557022-f7e4-4544-a1bc-74a5390334c5",
   "metadata": {},
   "outputs": [],
   "source": [
    "def convolucao2d(originalImage, kernel):\n",
    "\n",
    "    image = np.zeros_like(originalImage)\n",
    "\n",
    "    for i in range(len(originalImage)):\n",
    "        image[i, :] = np.convolve(originalImage[i, :], kernel.ravel(), mode='same')\n",
    "\n",
    "    for j in range(len(originalImage[0])):\n",
    "        image[:, j] = np.convolve(image[:, j], kernel.ravel(), mode='same')\n",
    "    \n",
    "    return image"
   ]
  },
  {
   "cell_type": "markdown",
   "id": "0b3c03d1-2e82-48ae-b317-c173dfe5cf0e",
   "metadata": {},
   "source": [
    "## Laplacian Image\n",
    "\n",
    "Adquirimos o Laplaciano da imagem com base no kernel apresentado no livro Digital Image Processing, 4th Edition de Rafael C. Gonzalez e Richard E. Woods.\n",
    "Utilizando esse kernel, podemos aplicar a convolução na imagem com este, para obter o Laplaciano da imagem original, este que pode ser utilizado posteriormente para servir como um filtro de sharpening da imagem."
   ]
  },
  {
   "cell_type": "code",
   "execution_count": 26,
   "id": "32e894ee-4dc1-4412-94fd-256d1719f714",
   "metadata": {},
   "outputs": [],
   "source": [
    "def laplace_transform(originalImage):\n",
    "    laplaceKernel= np.array([\n",
    "        [ 0,  1,  0],\n",
    "        [ 1, -4,  1],\n",
    "        [ 0,  1,  0],\n",
    "    ])\n",
    "    \n",
    "    return convolucao2d(originalImage, laplaceKernel)"
   ]
  },
  {
   "cell_type": "markdown",
   "id": "9404dd05-79d2-4c08-93b9-da4fe85e208f",
   "metadata": {},
   "source": [
    "## Mean Filter With Convolution\n",
    "\n",
    "Realizamos a filtragem da imagem com o filtro da média, com base no kernel apresentado no livro Digital Image Processing, 4th Edition de Rafael C. Gonzalez e Richard E. Woods.\n",
    "Utilizando esse kernel, podemos aplicar a convolução na imagem com este, para obter o a imagem filtrada, processo que pelo filtro de média é caracterizado como uma passagem low pass que resulta em suavização da imagem."
   ]
  },
  {
   "cell_type": "code",
   "execution_count": 28,
   "id": "fb50caa8-f9b0-4d8e-b87f-10d5f9297dd5",
   "metadata": {},
   "outputs": [],
   "source": [
    "def mean_filter_convolution(originalImage):\n",
    "    meanKernel = np.array([\n",
    "        [ 1/9, 1/9, 1/9],\n",
    "        [ 1/9, 1/9, 1/9],\n",
    "        [ 1/9, 1/9, 1/9],\n",
    "    ])\n",
    "    \n",
    "    return convolucao2d(originalImage, meanKernel)"
   ]
  },
  {
   "cell_type": "markdown",
   "id": "e2c4bfb1-0a57-4a2f-b60e-3a1e68de3e4c",
   "metadata": {},
   "source": [
    "## Aplicação\n",
    "\n",
    "Aqui será realizada a aplicação de todos os métodos de Data Augmentation discutidos anteriormente em cada imagem do originalGrayDataset.\n",
    "Com isso, teremos um novo dataset denominado augmentedDataset, que terá o resultado de todas as imagens processadas por cada um dos processos aqui descritos.\n",
    "\n",
    "Para o caso especial da aplicação da Power Law transform, temos que valoresde gamma acima de 1 resultam em uma imagem mais escurecida com contraste maior, e valores abaixo de 1 resultam em imagens com contraste menor e mais claras, portanto, o valor de gamma foi controlado para que em casos de iluminação mais clara tenha valores de gamma acima de 1, e imagens com iluminação mais escura tenha valores de gamma abaixo de 1."
   ]
  },
  {
   "cell_type": "code",
   "execution_count": 30,
   "id": "39238fb9-6e1f-4ac5-97e6-6eaa00ee5234",
   "metadata": {},
   "outputs": [
    {
     "ename": "KeyboardInterrupt",
     "evalue": "",
     "output_type": "error",
     "traceback": [
      "\u001b[1;31m---------------------------------------------------------------------------\u001b[0m",
      "\u001b[1;31mKeyboardInterrupt\u001b[0m                         Traceback (most recent call last)",
      "Cell \u001b[1;32mIn[30], line 28\u001b[0m\n\u001b[0;32m     26\u001b[0m                     saveImage(\u001b[38;5;124mf\u001b[39m\u001b[38;5;124m\"\u001b[39m\u001b[38;5;124m./augmentedDataset/\u001b[39m\u001b[38;5;132;01m{\u001b[39;00mclasse\u001b[38;5;132;01m}\u001b[39;00m\u001b[38;5;124m,\u001b[39m\u001b[38;5;132;01m{\u001b[39;00mtempo\u001b[38;5;132;01m}\u001b[39;00m\u001b[38;5;124m,\u001b[39m\u001b[38;5;132;01m{\u001b[39;00miluminacao\u001b[38;5;132;01m}\u001b[39;00m\u001b[38;5;124m,\u001b[39m\u001b[38;5;132;01m{\u001b[39;00mfundo\u001b[38;5;132;01m}\u001b[39;00m\u001b[38;5;124m,Laplace.jpg\u001b[39m\u001b[38;5;124m\"\u001b[39m, imagemLaplaceTransformed)\n\u001b[0;32m     27\u001b[0m                     saveImage(\u001b[38;5;124mf\u001b[39m\u001b[38;5;124m\"\u001b[39m\u001b[38;5;124m./augmentedDataset/\u001b[39m\u001b[38;5;132;01m{\u001b[39;00mclasse\u001b[38;5;132;01m}\u001b[39;00m\u001b[38;5;124m,\u001b[39m\u001b[38;5;132;01m{\u001b[39;00mtempo\u001b[38;5;132;01m}\u001b[39;00m\u001b[38;5;124m,\u001b[39m\u001b[38;5;132;01m{\u001b[39;00miluminacao\u001b[38;5;132;01m}\u001b[39;00m\u001b[38;5;124m,\u001b[39m\u001b[38;5;132;01m{\u001b[39;00mfundo\u001b[38;5;132;01m}\u001b[39;00m\u001b[38;5;124m,MeanFilterConvolution.jpg\u001b[39m\u001b[38;5;124m\"\u001b[39m, imagemMeanFilterConvolution)\n\u001b[1;32m---> 28\u001b[0m data_augmentation()\n",
      "Cell \u001b[1;32mIn[30], line 18\u001b[0m, in \u001b[0;36mdata_augmentation\u001b[1;34m()\u001b[0m\n\u001b[0;32m     16\u001b[0m     \u001b[38;5;28;01mif\u001b[39;00m(iluminacao \u001b[38;5;241m==\u001b[39m \u001b[38;5;124m\"\u001b[39m\u001b[38;5;124mDentro\u001b[39m\u001b[38;5;124m\"\u001b[39m): gamma \u001b[38;5;241m=\u001b[39m \u001b[38;5;241m0.9\u001b[39m\n\u001b[0;32m     17\u001b[0m     \u001b[38;5;28;01melse\u001b[39;00m: gamma \u001b[38;5;241m=\u001b[39m \u001b[38;5;241m0.7\u001b[39m\n\u001b[1;32m---> 18\u001b[0m imagemLog \u001b[38;5;241m=\u001b[39m log_transform(bancoImagensCinza[classe][tempo][iluminacao][fundo])\n\u001b[0;32m     19\u001b[0m imagemPowerLaw \u001b[38;5;241m=\u001b[39m power_law_transform(bancoImagensCinza[classe][tempo][iluminacao][fundo], gamma, \u001b[38;5;241m1\u001b[39m)\n\u001b[0;32m     20\u001b[0m imagemLaplaceTransformed \u001b[38;5;241m=\u001b[39m laplace_transform(bancoImagensCinza[classe][tempo][iluminacao][fundo])\n",
      "Cell \u001b[1;32mIn[20], line 6\u001b[0m, in \u001b[0;36mlog_transform\u001b[1;34m(originalImage)\u001b[0m\n\u001b[0;32m      4\u001b[0m \u001b[38;5;28;01mfor\u001b[39;00m lineIndex \u001b[38;5;129;01min\u001b[39;00m \u001b[38;5;28mrange\u001b[39m(\u001b[38;5;28mlen\u001b[39m(image)):\n\u001b[0;32m      5\u001b[0m     \u001b[38;5;28;01mfor\u001b[39;00m columnIndex \u001b[38;5;129;01min\u001b[39;00m \u001b[38;5;28mrange\u001b[39m(\u001b[38;5;28mlen\u001b[39m(image[lineIndex])):\n\u001b[1;32m----> 6\u001b[0m         image[lineIndex][columnIndex] \u001b[38;5;241m=\u001b[39m c\u001b[38;5;241m*\u001b[39m(np\u001b[38;5;241m.\u001b[39mlog(image[lineIndex][columnIndex]\u001b[38;5;241m+\u001b[39m\u001b[38;5;241m1\u001b[39m))\n\u001b[0;32m      7\u001b[0m \u001b[38;5;28;01mreturn\u001b[39;00m image\n",
      "\u001b[1;31mKeyboardInterrupt\u001b[0m: "
     ]
    }
   ],
   "source": [
    "def data_augmentation():\n",
    "    gamma = 1\n",
    "    \n",
    "    if not os.path.exists(\"./augmentedDataset/\"):\n",
    "        os.makedirs(\"./augmentedDataset/\")\n",
    "\n",
    "    for classe in bancoImagensCinza.keys():\n",
    "        for tempo in bancoImagensCinza[classe].keys():\n",
    "            for iluminacao in bancoImagensCinza[classe][tempo].keys():\n",
    "                for fundo in bancoImagensCinza[classe][tempo][iluminacao].keys():\n",
    "                    imagemConstrastStretching = contrast_stretching(bancoImagensCinza[classe][tempo][iluminacao][fundo])\n",
    "                    if(tempo == \"Dia\"):\n",
    "                        if(iluminacao == \"Dentro\"): gamma = 2\n",
    "                        else: gamma = 1.5\n",
    "                    else:\n",
    "                        if(iluminacao == \"Dentro\"): gamma = 0.9\n",
    "                        else: gamma = 0.7\n",
    "                    imagemLog = log_transform(bancoImagensCinza[classe][tempo][iluminacao][fundo])\n",
    "                    imagemPowerLaw = power_law_transform(bancoImagensCinza[classe][tempo][iluminacao][fundo], gamma, 1)\n",
    "                    imagemLaplaceTransformed = laplace_transform(bancoImagensCinza[classe][tempo][iluminacao][fundo])\n",
    "                    imagemMeanFilterConvolution = mean_filter_convolution(bancoImagensCinza[classe][tempo][iluminacao][fundo])\n",
    "                        \n",
    "                    saveImage(f\"./augmentedDataset/{classe},{tempo},{iluminacao},{fundo},ContrastStrechted.jpg\", imagemConstrastStretching)\n",
    "                    saveImage(f\"./augmentedDataset/{classe},{tempo},{iluminacao},{fundo},Log.jpg\", imagemLog)\n",
    "                    saveImage(f\"./augmentedDataset/{classe},{tempo},{iluminacao},{fundo},PowerLaw.jpg\", imagemPowerLaw)\n",
    "                    saveImage(f\"./augmentedDataset/{classe},{tempo},{iluminacao},{fundo},Laplace.jpg\", imagemLaplaceTransformed)\n",
    "                    saveImage(f\"./augmentedDataset/{classe},{tempo},{iluminacao},{fundo},MeanFilterConvolution.jpg\", imagemMeanFilterConvolution)\n",
    "data_augmentation()"
   ]
  },
  {
   "cell_type": "markdown",
   "id": "29705bd2-42f8-4e5f-94a7-ebb6627a1c8b",
   "metadata": {},
   "source": [
    "## Visualização\n",
    "\n",
    "Funções de visualização dos datasets com base nas desenvolvidas no EP1."
   ]
  },
  {
   "cell_type": "code",
   "execution_count": null,
   "id": "b037d0f3-1af1-416e-a198-971c31b24b6a",
   "metadata": {},
   "outputs": [],
   "source": [
    "#Código adaptado da Lista 1\n",
    "def plot_img(fig, titulo):\n",
    "  plt.figure(figsize=(3,3))\n",
    "  plt.imshow(fig, cmap='gray', vmin=0, vmax=255)\n",
    "  plt.title(titulo)\n",
    "  plt.axis('off')\n",
    "  plt.show()\n",
    "    \n",
    "def imprimeImagensPorClasse(bancoImagens):\n",
    "    for classe in bancoImagens.keys():\n",
    "        for tempo in bancoImagens[classe].keys():\n",
    "            for iluminacao in bancoImagens[classe][tempo].keys():\n",
    "                for fundo in bancoImagens[classe][tempo][iluminacao].keys():\n",
    "                    plot_img(bancoImagens[classe][tempo][iluminacao][fundo], f\"Classe: {classe}\\nTempo: {tempo}\\nLocal: {iluminacao}\\nFundo: {fundo}\")"
   ]
  },
  {
   "cell_type": "markdown",
   "id": "dd310b1b-ef0a-405c-90f0-af2d6469cc7c",
   "metadata": {},
   "source": [
    "## OriginalGrayDataset\n",
    "\n",
    "Realiza a visualização do originalGrayDataset"
   ]
  },
  {
   "cell_type": "code",
   "execution_count": null,
   "id": "c65481be-dc84-43c4-9145-afbe7dd62cc3",
   "metadata": {},
   "outputs": [],
   "source": [
    "imprimeImagensPorClasse(bancoImagensCinza)"
   ]
  },
  {
   "cell_type": "markdown",
   "id": "c41a4ab6-c7b1-4877-8bfd-fdc67f51af5a",
   "metadata": {},
   "source": [
    "## AugmentedDataset\n",
    "\n",
    "Armazena o augmentedDataset em um dicionário e o visualiza."
   ]
  },
  {
   "cell_type": "code",
   "execution_count": null,
   "id": "4367e667-008e-4a8b-8fc5-5025a74d9a64",
   "metadata": {},
   "outputs": [],
   "source": [
    "def imprimeImagensProcessadasPorClasse(bancoImagens):\n",
    "    for classe in bancoImagens.keys():\n",
    "        for tempo in bancoImagens[classe].keys():\n",
    "            for iluminacao in bancoImagens[classe][tempo].keys():\n",
    "                for fundo in bancoImagens[classe][tempo][iluminacao].keys():\n",
    "                    for processo in bancoImagens[classe][tempo][iluminacao][fundo].keys():\n",
    "                        print(tempo)\n",
    "                        print(iluminacao)\n",
    "                        plot_img(bancoImagens[classe][tempo][iluminacao][fundo][processo], f\"Classe: {classe}\\nTempo: {tempo}\\nLocal: {iluminacao}\\nFundo: {fundo}\\nProcesso: {processo}\")\n",
    "bancoImagensProcessadas = {}\n",
    "quantidadeClasses, quantidadeImagens, resolucaoImagens = loadImages(\"./augmentedDataset/\", quantidadeClasses, quantidadeImagens, resolucaoImagens, bancoImagensProcessadas)\n",
    "imprimeImagensProcessadasPorClasse(bancoImagensProcessadas)"
   ]
  }
 ],
 "metadata": {
  "kernelspec": {
   "display_name": "Python 3 (ipykernel)",
   "language": "python",
   "name": "python3"
  },
  "language_info": {
   "codemirror_mode": {
    "name": "ipython",
    "version": 3
   },
   "file_extension": ".py",
   "mimetype": "text/x-python",
   "name": "python",
   "nbconvert_exporter": "python",
   "pygments_lexer": "ipython3",
   "version": "3.11.7"
  }
 },
 "nbformat": 4,
 "nbformat_minor": 5
}
